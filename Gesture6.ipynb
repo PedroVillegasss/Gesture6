{
  "cells": [
    {
      "cell_type": "markdown",
      "metadata": {
        "id": "aSj5G4BeMOS_"
      },
      "source": [
        "# Dataset"
      ]
    },
    {
      "cell_type": "markdown",
      "metadata": {
        "id": "Rvyuvt0YNG9a"
      },
      "source": [
        "Mount to Google Drive and define the path where the dataset will be"
      ]
    },
    {
      "cell_type": "code",
      "execution_count": null,
      "metadata": {
        "colab": {
          "base_uri": "https://localhost:8080/"
        },
        "id": "8BSBrXaqLjQc",
        "outputId": "8081b9a2-60e4-4412-dd85-bf012cde35ab"
      },
      "outputs": [],
      "source": [
        "from google.colab import drive\n",
        "\n",
        "drive.mount(\"/content/drive\", force_remount=True)\n",
        "dataset_folder_path = '/content/drive/My Drive/Colab Notebooks/ML Research/supervised-learning/intelligent-locker-system'"
      ]
    },
    {
      "cell_type": "markdown",
      "metadata": {
        "id": "ySUjBFFyNkbJ"
      },
      "source": [
        "If the dataset used by **Gesture6** is not found in the `dataset_folder_path`, connect to Kaggle, download it, and clean it."
      ]
    },
    {
      "cell_type": "code",
      "execution_count": null,
      "metadata": {
        "id": "l2ttmnOpSvKx"
      },
      "outputs": [],
      "source": [
        "%pip install opendatasets --upgrade --quiet\n",
        "%pip install tensorflow"
      ]
    },
    {
      "cell_type": "code",
      "execution_count": null,
      "metadata": {
        "colab": {
          "base_uri": "https://localhost:8080/"
        },
        "id": "-sdgx_qFTV8K",
        "outputId": "63a05307-41cb-4f45-9d5f-2024be17ef28"
      },
      "outputs": [],
      "source": [
        "'''\n",
        "USERNAME = pedrovillegascelis\n",
        "KEY = 90f5d28b93ddc0dd614439c87078db60\n",
        "'''\n",
        "\n",
        "import opendatasets as od\n",
        "import os\n",
        "\n",
        "CLASSES = [\"01_palm\", \"02_l\", \"04_fist_moved\", \"06_index\", \"07_ok\", \"08_palm_moved\"] # Gesture6.1\n",
        "download_path = os.path.join(dataset_folder_path, \"data\")\n",
        "\n",
        "if not os.path.exists(download_path):\n",
        "  od.download(\"https://www.kaggle.com/datasets/gti-upm/leapgestrecog/data\", data_dir=download_path)\n",
        "\n",
        "else:\n",
        "  print(\"Dataset already downloaded\")"
      ]
    },
    {
      "cell_type": "code",
      "execution_count": null,
      "metadata": {
        "id": "F6WNFsgm4lGL"
      },
      "outputs": [],
      "source": [
        "import shutil # Imported for directory removal -> the os.remove() is intended to remove files and not directories\n",
        "\n",
        "data_path = \"/content/drive/My Drive/Colab Notebooks/ML Research/supervised-learning/intelligent-locker-system/data/leapgestrecog/leapGestRecog\"\n",
        "for subject in os.listdir(data_path):\n",
        "  for gesture in os.listdir(os.path.join(data_path, subject)):\n",
        "    if gesture not in CLASSES:\n",
        "      shutil.rmtree(os.path.join(data_path, subject, gesture))"
      ]
    },
    {
      "cell_type": "markdown",
      "metadata": {},
      "source": [
        "In case of running locally."
      ]
    },
    {
      "cell_type": "code",
      "execution_count": 2,
      "metadata": {},
      "outputs": [],
      "source": [
        "import os\n",
        "import shutil # Imported for directory removal -> the os.remove() is intended to remove files and not directories\n",
        "\n",
        "CLASSES = [\"01_palm\", \"02_l\", \"04_fist_moved\", \"06_index\", \"07_ok\", \"08_palm_moved\"] # Gesture6.1\n",
        "\n",
        "data_path = \"data/leapgestrecog/leapGestRecog\"\n",
        "for subject in os.listdir(data_path):\n",
        "  for gesture in os.listdir(os.path.join(data_path, subject)):\n",
        "    if gesture not in CLASSES:\n",
        "      shutil.rmtree(os.path.join(data_path, subject, gesture))"
      ]
    },
    {
      "cell_type": "markdown",
      "metadata": {
        "id": "5NRpJWrM61Z_"
      },
      "source": [
        "# Gesture6 224x224"
      ]
    },
    {
      "cell_type": "markdown",
      "metadata": {
        "id": "07Ijkn99NbL5"
      },
      "source": [
        "Import the **model** dependencies."
      ]
    },
    {
      "cell_type": "code",
      "execution_count": 4,
      "metadata": {
        "id": "jtA6l0BQNVyH"
      },
      "outputs": [],
      "source": [
        "import os\n",
        "import tensorflow as tf\n",
        "import matplotlib.pyplot as plt\n",
        "import pandas as pd\n",
        "import numpy as np\n",
        "\n",
        "from tensorflow.keras.preprocessing.image import ImageDataGenerator\n",
        "from tensorflow.keras.layers import Conv2D, MaxPool2D, Flatten, Dense, Dropout, Activation, LeakyReLU, GlobalAveragePooling2D\n",
        "from tensorflow.keras.layers import GlobalAveragePooling2D, Dense, Dropout, Input\n",
        "from tensorflow.keras.models import Sequential\n",
        "from tensorflow.keras.optimizers import Adam\n",
        "from tensorflow.keras.callbacks import EarlyStopping\n",
        "from tensorflow.keras.preprocessing.image import load_img, img_to_array"
      ]
    },
    {
      "cell_type": "markdown",
      "metadata": {
        "id": "kWa9jqIY8B_-"
      },
      "source": [
        "Function to get the file_paths and labels."
      ]
    },
    {
      "cell_type": "code",
      "execution_count": 5,
      "metadata": {
        "id": "LDg4uR5z8RJ_"
      },
      "outputs": [],
      "source": [
        "def get_file_paths_and_labels(data_path):\n",
        "  file_paths = []\n",
        "  labels = []\n",
        "\n",
        "  CLASSES = [\"01_palm\", \"02_l\", \"04_fist_moved\", \"06_index\", \"07_ok\", \"08_palm_moved\"]\n",
        "\n",
        "  label_map = {}\n",
        "  for counter, gesture in enumerate(CLASSES):\n",
        "    label_map[gesture] = counter\n",
        "    # {'01_palm': 0, '02_l': 1, '04_fist_moved': 2, '06_index': 3, '07_ok': 4, '08_palm_moved': 5}\n",
        "\n",
        "  for subject in os.listdir(data_path):\n",
        "    subject_path = os.path.join(data_path, subject)\n",
        "\n",
        "    for gesture in os.listdir(subject_path):\n",
        "      gesture_path = os.path.join(subject_path, gesture)\n",
        "\n",
        "      for img_file in os.listdir(gesture_path):\n",
        "        file_path = os.path.join(gesture_path, img_file)\n",
        "        file_paths.append(file_path)\n",
        "        labels.append(label_map[gesture])\n",
        "\n",
        "  return file_paths, labels"
      ]
    },
    {
      "cell_type": "markdown",
      "metadata": {
        "id": "NXNdrNnSAFky"
      },
      "source": [
        "Get the file paths and labels (colab)."
      ]
    },
    {
      "cell_type": "code",
      "execution_count": null,
      "metadata": {
        "colab": {
          "base_uri": "https://localhost:8080/"
        },
        "id": "WdbMvCXN_sK3",
        "outputId": "f3b000aa-4d0f-4e72-8751-4979334e0531"
      },
      "outputs": [],
      "source": [
        "data_path = \"/content/drive/My Drive/Colab Notebooks/ML Research/supervised-learning/intelligent-locker-system/data/leapgestrecog/leapGestRecog\"\n",
        "file_paths, labels = get_file_paths_and_labels(data_path)\n",
        "\n",
        "# This is done here also, outside the previous function, just to have the \"label_map\" saved globally in case of a need.\n",
        "CLASSES = [\"01_palm\", \"02_l\", \"04_fist_moved\", \"06_index\", \"07_ok\", \"08_palm_moved\"]\n",
        "label_map = {}\n",
        "for counter, gesture in enumerate(CLASSES):\n",
        "  label_map[gesture] = counter\n",
        "\n",
        "print(\"Label map:\", label_map)"
      ]
    },
    {
      "cell_type": "markdown",
      "metadata": {},
      "source": [
        "Get the file paths and labels (local)."
      ]
    },
    {
      "cell_type": "code",
      "execution_count": 6,
      "metadata": {},
      "outputs": [
        {
          "name": "stdout",
          "output_type": "stream",
          "text": [
            "Label map: {'01_palm': 0, '02_l': 1, '04_fist_moved': 2, '06_index': 3, '07_ok': 4, '08_palm_moved': 5}\n"
          ]
        }
      ],
      "source": [
        "data_path = \"data/leapgestrecog/leapGestRecog\"\n",
        "file_paths, labels = get_file_paths_and_labels(data_path)\n",
        "\n",
        "# This is done here also, outside the previous function, just to have the \"label_map\" saved globally in case of a need.\n",
        "CLASSES = [\"01_palm\", \"02_l\", \"04_fist_moved\", \"06_index\", \"07_ok\", \"08_palm_moved\"]\n",
        "label_map = {}\n",
        "for counter, gesture in enumerate(CLASSES):\n",
        "  label_map[gesture] = counter\n",
        "\n",
        "print(\"Label map:\", label_map)"
      ]
    },
    {
      "cell_type": "markdown",
      "metadata": {
        "id": "-Gcmh7wKBP3I"
      },
      "source": [
        "Shuffle the data"
      ]
    },
    {
      "cell_type": "code",
      "execution_count": 7,
      "metadata": {
        "id": "4Kpi6jrHBS9J"
      },
      "outputs": [],
      "source": [
        "'''\n",
        "- \"file_paths\" is a list that contains the path to each image in the dataset\n",
        "- \"labels\" is a list that contains the label of each image in the dataset\n",
        "\n",
        "If file_paths is ['image1.jpg', 'image2.jpg'] and labels is [0, 1], after list(zip(...))\n",
        "data will be [('image1.jpg', 0), ('image2.jpg', 1)].\n",
        "'''\n",
        "data = list(zip(file_paths, labels))\n",
        "\n",
        "# Shuffle the data to improve training by randomizing\n",
        "# the order of image-label pairs.\n",
        "np.random.shuffle(data)\n",
        "\n",
        "# Once the data has been randomized, zip(*data) undo the previous operations\n",
        "# in the lists file_paths and labels to keep everything the same as before.\n",
        "file_paths, labels = zip(*data)"
      ]
    },
    {
      "cell_type": "markdown",
      "metadata": {
        "id": "ssqeFJ89ERXd"
      },
      "source": [
        "Convert labels to string."
      ]
    },
    {
      "cell_type": "code",
      "execution_count": 8,
      "metadata": {
        "id": "UhSL8KfkEPYH"
      },
      "outputs": [],
      "source": [
        "labels_str = [str(label) for label in labels]"
      ]
    },
    {
      "cell_type": "markdown",
      "metadata": {
        "id": "ngeFDhGwEkQB"
      },
      "source": [
        "Create a dataframe with file_paths and labels_str to finally create the ImageDataGenerator for training and validation."
      ]
    },
    {
      "cell_type": "code",
      "execution_count": 9,
      "metadata": {
        "colab": {
          "base_uri": "https://localhost:8080/",
          "height": 423
        },
        "id": "BT20XvY2ExZx",
        "outputId": "20841d71-ff87-4da0-c10f-4e2146df9334"
      },
      "outputs": [
        {
          "data": {
            "text/html": [
              "<div>\n",
              "<style scoped>\n",
              "    .dataframe tbody tr th:only-of-type {\n",
              "        vertical-align: middle;\n",
              "    }\n",
              "\n",
              "    .dataframe tbody tr th {\n",
              "        vertical-align: top;\n",
              "    }\n",
              "\n",
              "    .dataframe thead th {\n",
              "        text-align: right;\n",
              "    }\n",
              "</style>\n",
              "<table border=\"1\" class=\"dataframe\">\n",
              "  <thead>\n",
              "    <tr style=\"text-align: right;\">\n",
              "      <th></th>\n",
              "      <th>filename</th>\n",
              "      <th>class</th>\n",
              "    </tr>\n",
              "  </thead>\n",
              "  <tbody>\n",
              "    <tr>\n",
              "      <th>0</th>\n",
              "      <td>data/leapgestrecog/leapGestRecog\\06\\07_ok\\fram...</td>\n",
              "      <td>4</td>\n",
              "    </tr>\n",
              "    <tr>\n",
              "      <th>1</th>\n",
              "      <td>data/leapgestrecog/leapGestRecog\\01\\06_index\\f...</td>\n",
              "      <td>3</td>\n",
              "    </tr>\n",
              "    <tr>\n",
              "      <th>2</th>\n",
              "      <td>data/leapgestrecog/leapGestRecog\\05\\02_l\\frame...</td>\n",
              "      <td>1</td>\n",
              "    </tr>\n",
              "    <tr>\n",
              "      <th>3</th>\n",
              "      <td>data/leapgestrecog/leapGestRecog\\01\\08_palm_mo...</td>\n",
              "      <td>5</td>\n",
              "    </tr>\n",
              "    <tr>\n",
              "      <th>4</th>\n",
              "      <td>data/leapgestrecog/leapGestRecog\\06\\02_l\\frame...</td>\n",
              "      <td>1</td>\n",
              "    </tr>\n",
              "    <tr>\n",
              "      <th>...</th>\n",
              "      <td>...</td>\n",
              "      <td>...</td>\n",
              "    </tr>\n",
              "    <tr>\n",
              "      <th>11995</th>\n",
              "      <td>data/leapgestrecog/leapGestRecog\\02\\02_l\\frame...</td>\n",
              "      <td>1</td>\n",
              "    </tr>\n",
              "    <tr>\n",
              "      <th>11996</th>\n",
              "      <td>data/leapgestrecog/leapGestRecog\\05\\06_index\\f...</td>\n",
              "      <td>3</td>\n",
              "    </tr>\n",
              "    <tr>\n",
              "      <th>11997</th>\n",
              "      <td>data/leapgestrecog/leapGestRecog\\01\\06_index\\f...</td>\n",
              "      <td>3</td>\n",
              "    </tr>\n",
              "    <tr>\n",
              "      <th>11998</th>\n",
              "      <td>data/leapgestrecog/leapGestRecog\\09\\08_palm_mo...</td>\n",
              "      <td>5</td>\n",
              "    </tr>\n",
              "    <tr>\n",
              "      <th>11999</th>\n",
              "      <td>data/leapgestrecog/leapGestRecog\\03\\08_palm_mo...</td>\n",
              "      <td>5</td>\n",
              "    </tr>\n",
              "  </tbody>\n",
              "</table>\n",
              "<p>12000 rows × 2 columns</p>\n",
              "</div>"
            ],
            "text/plain": [
              "                                                filename class\n",
              "0      data/leapgestrecog/leapGestRecog\\06\\07_ok\\fram...     4\n",
              "1      data/leapgestrecog/leapGestRecog\\01\\06_index\\f...     3\n",
              "2      data/leapgestrecog/leapGestRecog\\05\\02_l\\frame...     1\n",
              "3      data/leapgestrecog/leapGestRecog\\01\\08_palm_mo...     5\n",
              "4      data/leapgestrecog/leapGestRecog\\06\\02_l\\frame...     1\n",
              "...                                                  ...   ...\n",
              "11995  data/leapgestrecog/leapGestRecog\\02\\02_l\\frame...     1\n",
              "11996  data/leapgestrecog/leapGestRecog\\05\\06_index\\f...     3\n",
              "11997  data/leapgestrecog/leapGestRecog\\01\\06_index\\f...     3\n",
              "11998  data/leapgestrecog/leapGestRecog\\09\\08_palm_mo...     5\n",
              "11999  data/leapgestrecog/leapGestRecog\\03\\08_palm_mo...     5\n",
              "\n",
              "[12000 rows x 2 columns]"
            ]
          },
          "execution_count": 9,
          "metadata": {},
          "output_type": "execute_result"
        }
      ],
      "source": [
        "# pd.DataFrame({column_name: values})\n",
        "\n",
        "dataframe = pd.DataFrame({'filename': file_paths, 'class': labels_str})\n",
        "dataframe"
      ]
    },
    {
      "cell_type": "markdown",
      "metadata": {
        "id": "NtZfainkGV2K"
      },
      "source": [
        "Parameters."
      ]
    },
    {
      "cell_type": "code",
      "execution_count": 10,
      "metadata": {
        "id": "T7qHwxo9GXkD"
      },
      "outputs": [],
      "source": [
        "batch_size = 32\n",
        "num_classes = 6\n",
        "learning_rate = 0.001\n",
        "epochs = 2\n",
        "img_size = 224"
      ]
    },
    {
      "cell_type": "markdown",
      "metadata": {
        "id": "lyR_-P3HFLbE"
      },
      "source": [
        "Create ImageDataGenerator for training and validation."
      ]
    },
    {
      "cell_type": "code",
      "execution_count": 11,
      "metadata": {
        "colab": {
          "base_uri": "https://localhost:8080/"
        },
        "id": "XzsnRz9FFLEj",
        "outputId": "238f6042-e2fe-4b80-ce83-b3569091417f"
      },
      "outputs": [
        {
          "name": "stdout",
          "output_type": "stream",
          "text": [
            "Found 9600 validated image filenames belonging to 6 classes.\n",
            "Found 2400 validated image filenames belonging to 6 classes.\n"
          ]
        }
      ],
      "source": [
        "datagen = ImageDataGenerator(\n",
        "    rescale=1/255.0,            # Normalization\n",
        "    # zoom_range=0.2,             # Data Aug.\n",
        "    # width_shift_range=0.2,      # Data Aug.\n",
        "    # height_shift_range=0.2,     # Data Aug.\n",
        "    validation_split=0.2        # 20% of the data for validation\n",
        ")\n",
        "\n",
        "train_generator = datagen.flow_from_dataframe(\n",
        "    dataframe=dataframe,\n",
        "    x_col='filename',\n",
        "    y_col='class',\n",
        "    target_size=(img_size, img_size),\n",
        "    batch_size=batch_size,\n",
        "    class_mode='categorical',\n",
        "    subset='training'\n",
        ")\n",
        "\n",
        "validation_generator = datagen.flow_from_dataframe(\n",
        "    dataframe=dataframe,\n",
        "    x_col='filename',\n",
        "    y_col='class',\n",
        "    target_size=(img_size, img_size),\n",
        "    batch_size=batch_size,\n",
        "    class_mode='categorical',\n",
        "    subset='validation'\n",
        ")"
      ]
    },
    {
      "cell_type": "markdown",
      "metadata": {
        "id": "MJY1OradL1oU"
      },
      "source": [
        "Define the model."
      ]
    },
    {
      "cell_type": "code",
      "execution_count": 12,
      "metadata": {
        "id": "yCo5vqGQL3PB"
      },
      "outputs": [],
      "source": [
        "model = Sequential()\n",
        "\n",
        "model.add(Input(shape=(img_size, img_size, 3)))\n",
        "model.add(Conv2D(filters=8, kernel_size=(3,3)))\n",
        "model.add(Activation('relu'))\n",
        "\n",
        "model.add(Conv2D(filters=8, kernel_size=(3,3)))\n",
        "model.add(Activation('relu'))\n",
        "model.add(MaxPool2D(pool_size=(2,2)))\n",
        "model.add(Dropout(0.3))\n",
        "\n",
        "model.add(Conv2D(filters=16, kernel_size=(3,3)))\n",
        "model.add(Activation('relu'))\n",
        "model.add(MaxPool2D(pool_size=(2,2)))\n",
        "model.add(Dropout(0.3))\n",
        "\n",
        "model.add(Flatten())\n",
        "model.add(Dense(128, activation='relu'))\n",
        "model.add(Dense(num_classes, activation='softmax'))\n",
        "\n",
        "model.compile(\n",
        "    loss='categorical_crossentropy',\n",
        "    optimizer='Adam',\n",
        "    metrics=['accuracy']\n",
        ")\n"
      ]
    },
    {
      "cell_type": "code",
      "execution_count": 13,
      "metadata": {
        "colab": {
          "base_uri": "https://localhost:8080/",
          "height": 545
        },
        "id": "xjiwo9W2Xmzq",
        "outputId": "c1609321-ad92-4910-996c-8fcfe96efdc4"
      },
      "outputs": [
        {
          "data": {
            "text/html": [
              "<pre style=\"white-space:pre;overflow-x:auto;line-height:normal;font-family:Menlo,'DejaVu Sans Mono',consolas,'Courier New',monospace\"><span style=\"font-weight: bold\">Model: \"sequential\"</span>\n",
              "</pre>\n"
            ],
            "text/plain": [
              "\u001b[1mModel: \"sequential\"\u001b[0m\n"
            ]
          },
          "metadata": {},
          "output_type": "display_data"
        },
        {
          "data": {
            "text/html": [
              "<pre style=\"white-space:pre;overflow-x:auto;line-height:normal;font-family:Menlo,'DejaVu Sans Mono',consolas,'Courier New',monospace\">┏━━━━━━━━━━━━━━━━━━━━━━━━━━━━━━━━━┳━━━━━━━━━━━━━━━━━━━━━━━━┳━━━━━━━━━━━━━━━┓\n",
              "┃<span style=\"font-weight: bold\"> Layer (type)                    </span>┃<span style=\"font-weight: bold\"> Output Shape           </span>┃<span style=\"font-weight: bold\">       Param # </span>┃\n",
              "┡━━━━━━━━━━━━━━━━━━━━━━━━━━━━━━━━━╇━━━━━━━━━━━━━━━━━━━━━━━━╇━━━━━━━━━━━━━━━┩\n",
              "│ conv2d (<span style=\"color: #0087ff; text-decoration-color: #0087ff\">Conv2D</span>)                 │ (<span style=\"color: #00d7ff; text-decoration-color: #00d7ff\">None</span>, <span style=\"color: #00af00; text-decoration-color: #00af00\">222</span>, <span style=\"color: #00af00; text-decoration-color: #00af00\">222</span>, <span style=\"color: #00af00; text-decoration-color: #00af00\">8</span>)    │           <span style=\"color: #00af00; text-decoration-color: #00af00\">224</span> │\n",
              "├─────────────────────────────────┼────────────────────────┼───────────────┤\n",
              "│ activation (<span style=\"color: #0087ff; text-decoration-color: #0087ff\">Activation</span>)         │ (<span style=\"color: #00d7ff; text-decoration-color: #00d7ff\">None</span>, <span style=\"color: #00af00; text-decoration-color: #00af00\">222</span>, <span style=\"color: #00af00; text-decoration-color: #00af00\">222</span>, <span style=\"color: #00af00; text-decoration-color: #00af00\">8</span>)    │             <span style=\"color: #00af00; text-decoration-color: #00af00\">0</span> │\n",
              "├─────────────────────────────────┼────────────────────────┼───────────────┤\n",
              "│ conv2d_1 (<span style=\"color: #0087ff; text-decoration-color: #0087ff\">Conv2D</span>)               │ (<span style=\"color: #00d7ff; text-decoration-color: #00d7ff\">None</span>, <span style=\"color: #00af00; text-decoration-color: #00af00\">220</span>, <span style=\"color: #00af00; text-decoration-color: #00af00\">220</span>, <span style=\"color: #00af00; text-decoration-color: #00af00\">8</span>)    │           <span style=\"color: #00af00; text-decoration-color: #00af00\">584</span> │\n",
              "├─────────────────────────────────┼────────────────────────┼───────────────┤\n",
              "│ activation_1 (<span style=\"color: #0087ff; text-decoration-color: #0087ff\">Activation</span>)       │ (<span style=\"color: #00d7ff; text-decoration-color: #00d7ff\">None</span>, <span style=\"color: #00af00; text-decoration-color: #00af00\">220</span>, <span style=\"color: #00af00; text-decoration-color: #00af00\">220</span>, <span style=\"color: #00af00; text-decoration-color: #00af00\">8</span>)    │             <span style=\"color: #00af00; text-decoration-color: #00af00\">0</span> │\n",
              "├─────────────────────────────────┼────────────────────────┼───────────────┤\n",
              "│ max_pooling2d (<span style=\"color: #0087ff; text-decoration-color: #0087ff\">MaxPooling2D</span>)    │ (<span style=\"color: #00d7ff; text-decoration-color: #00d7ff\">None</span>, <span style=\"color: #00af00; text-decoration-color: #00af00\">110</span>, <span style=\"color: #00af00; text-decoration-color: #00af00\">110</span>, <span style=\"color: #00af00; text-decoration-color: #00af00\">8</span>)    │             <span style=\"color: #00af00; text-decoration-color: #00af00\">0</span> │\n",
              "├─────────────────────────────────┼────────────────────────┼───────────────┤\n",
              "│ dropout (<span style=\"color: #0087ff; text-decoration-color: #0087ff\">Dropout</span>)               │ (<span style=\"color: #00d7ff; text-decoration-color: #00d7ff\">None</span>, <span style=\"color: #00af00; text-decoration-color: #00af00\">110</span>, <span style=\"color: #00af00; text-decoration-color: #00af00\">110</span>, <span style=\"color: #00af00; text-decoration-color: #00af00\">8</span>)    │             <span style=\"color: #00af00; text-decoration-color: #00af00\">0</span> │\n",
              "├─────────────────────────────────┼────────────────────────┼───────────────┤\n",
              "│ conv2d_2 (<span style=\"color: #0087ff; text-decoration-color: #0087ff\">Conv2D</span>)               │ (<span style=\"color: #00d7ff; text-decoration-color: #00d7ff\">None</span>, <span style=\"color: #00af00; text-decoration-color: #00af00\">108</span>, <span style=\"color: #00af00; text-decoration-color: #00af00\">108</span>, <span style=\"color: #00af00; text-decoration-color: #00af00\">16</span>)   │         <span style=\"color: #00af00; text-decoration-color: #00af00\">1,168</span> │\n",
              "├─────────────────────────────────┼────────────────────────┼───────────────┤\n",
              "│ activation_2 (<span style=\"color: #0087ff; text-decoration-color: #0087ff\">Activation</span>)       │ (<span style=\"color: #00d7ff; text-decoration-color: #00d7ff\">None</span>, <span style=\"color: #00af00; text-decoration-color: #00af00\">108</span>, <span style=\"color: #00af00; text-decoration-color: #00af00\">108</span>, <span style=\"color: #00af00; text-decoration-color: #00af00\">16</span>)   │             <span style=\"color: #00af00; text-decoration-color: #00af00\">0</span> │\n",
              "├─────────────────────────────────┼────────────────────────┼───────────────┤\n",
              "│ max_pooling2d_1 (<span style=\"color: #0087ff; text-decoration-color: #0087ff\">MaxPooling2D</span>)  │ (<span style=\"color: #00d7ff; text-decoration-color: #00d7ff\">None</span>, <span style=\"color: #00af00; text-decoration-color: #00af00\">54</span>, <span style=\"color: #00af00; text-decoration-color: #00af00\">54</span>, <span style=\"color: #00af00; text-decoration-color: #00af00\">16</span>)     │             <span style=\"color: #00af00; text-decoration-color: #00af00\">0</span> │\n",
              "├─────────────────────────────────┼────────────────────────┼───────────────┤\n",
              "│ dropout_1 (<span style=\"color: #0087ff; text-decoration-color: #0087ff\">Dropout</span>)             │ (<span style=\"color: #00d7ff; text-decoration-color: #00d7ff\">None</span>, <span style=\"color: #00af00; text-decoration-color: #00af00\">54</span>, <span style=\"color: #00af00; text-decoration-color: #00af00\">54</span>, <span style=\"color: #00af00; text-decoration-color: #00af00\">16</span>)     │             <span style=\"color: #00af00; text-decoration-color: #00af00\">0</span> │\n",
              "├─────────────────────────────────┼────────────────────────┼───────────────┤\n",
              "│ flatten (<span style=\"color: #0087ff; text-decoration-color: #0087ff\">Flatten</span>)               │ (<span style=\"color: #00d7ff; text-decoration-color: #00d7ff\">None</span>, <span style=\"color: #00af00; text-decoration-color: #00af00\">46656</span>)          │             <span style=\"color: #00af00; text-decoration-color: #00af00\">0</span> │\n",
              "├─────────────────────────────────┼────────────────────────┼───────────────┤\n",
              "│ dense (<span style=\"color: #0087ff; text-decoration-color: #0087ff\">Dense</span>)                   │ (<span style=\"color: #00d7ff; text-decoration-color: #00d7ff\">None</span>, <span style=\"color: #00af00; text-decoration-color: #00af00\">128</span>)            │     <span style=\"color: #00af00; text-decoration-color: #00af00\">5,972,096</span> │\n",
              "├─────────────────────────────────┼────────────────────────┼───────────────┤\n",
              "│ dense_1 (<span style=\"color: #0087ff; text-decoration-color: #0087ff\">Dense</span>)                 │ (<span style=\"color: #00d7ff; text-decoration-color: #00d7ff\">None</span>, <span style=\"color: #00af00; text-decoration-color: #00af00\">6</span>)              │           <span style=\"color: #00af00; text-decoration-color: #00af00\">774</span> │\n",
              "└─────────────────────────────────┴────────────────────────┴───────────────┘\n",
              "</pre>\n"
            ],
            "text/plain": [
              "┏━━━━━━━━━━━━━━━━━━━━━━━━━━━━━━━━━┳━━━━━━━━━━━━━━━━━━━━━━━━┳━━━━━━━━━━━━━━━┓\n",
              "┃\u001b[1m \u001b[0m\u001b[1mLayer (type)                   \u001b[0m\u001b[1m \u001b[0m┃\u001b[1m \u001b[0m\u001b[1mOutput Shape          \u001b[0m\u001b[1m \u001b[0m┃\u001b[1m \u001b[0m\u001b[1m      Param #\u001b[0m\u001b[1m \u001b[0m┃\n",
              "┡━━━━━━━━━━━━━━━━━━━━━━━━━━━━━━━━━╇━━━━━━━━━━━━━━━━━━━━━━━━╇━━━━━━━━━━━━━━━┩\n",
              "│ conv2d (\u001b[38;5;33mConv2D\u001b[0m)                 │ (\u001b[38;5;45mNone\u001b[0m, \u001b[38;5;34m222\u001b[0m, \u001b[38;5;34m222\u001b[0m, \u001b[38;5;34m8\u001b[0m)    │           \u001b[38;5;34m224\u001b[0m │\n",
              "├─────────────────────────────────┼────────────────────────┼───────────────┤\n",
              "│ activation (\u001b[38;5;33mActivation\u001b[0m)         │ (\u001b[38;5;45mNone\u001b[0m, \u001b[38;5;34m222\u001b[0m, \u001b[38;5;34m222\u001b[0m, \u001b[38;5;34m8\u001b[0m)    │             \u001b[38;5;34m0\u001b[0m │\n",
              "├─────────────────────────────────┼────────────────────────┼───────────────┤\n",
              "│ conv2d_1 (\u001b[38;5;33mConv2D\u001b[0m)               │ (\u001b[38;5;45mNone\u001b[0m, \u001b[38;5;34m220\u001b[0m, \u001b[38;5;34m220\u001b[0m, \u001b[38;5;34m8\u001b[0m)    │           \u001b[38;5;34m584\u001b[0m │\n",
              "├─────────────────────────────────┼────────────────────────┼───────────────┤\n",
              "│ activation_1 (\u001b[38;5;33mActivation\u001b[0m)       │ (\u001b[38;5;45mNone\u001b[0m, \u001b[38;5;34m220\u001b[0m, \u001b[38;5;34m220\u001b[0m, \u001b[38;5;34m8\u001b[0m)    │             \u001b[38;5;34m0\u001b[0m │\n",
              "├─────────────────────────────────┼────────────────────────┼───────────────┤\n",
              "│ max_pooling2d (\u001b[38;5;33mMaxPooling2D\u001b[0m)    │ (\u001b[38;5;45mNone\u001b[0m, \u001b[38;5;34m110\u001b[0m, \u001b[38;5;34m110\u001b[0m, \u001b[38;5;34m8\u001b[0m)    │             \u001b[38;5;34m0\u001b[0m │\n",
              "├─────────────────────────────────┼────────────────────────┼───────────────┤\n",
              "│ dropout (\u001b[38;5;33mDropout\u001b[0m)               │ (\u001b[38;5;45mNone\u001b[0m, \u001b[38;5;34m110\u001b[0m, \u001b[38;5;34m110\u001b[0m, \u001b[38;5;34m8\u001b[0m)    │             \u001b[38;5;34m0\u001b[0m │\n",
              "├─────────────────────────────────┼────────────────────────┼───────────────┤\n",
              "│ conv2d_2 (\u001b[38;5;33mConv2D\u001b[0m)               │ (\u001b[38;5;45mNone\u001b[0m, \u001b[38;5;34m108\u001b[0m, \u001b[38;5;34m108\u001b[0m, \u001b[38;5;34m16\u001b[0m)   │         \u001b[38;5;34m1,168\u001b[0m │\n",
              "├─────────────────────────────────┼────────────────────────┼───────────────┤\n",
              "│ activation_2 (\u001b[38;5;33mActivation\u001b[0m)       │ (\u001b[38;5;45mNone\u001b[0m, \u001b[38;5;34m108\u001b[0m, \u001b[38;5;34m108\u001b[0m, \u001b[38;5;34m16\u001b[0m)   │             \u001b[38;5;34m0\u001b[0m │\n",
              "├─────────────────────────────────┼────────────────────────┼───────────────┤\n",
              "│ max_pooling2d_1 (\u001b[38;5;33mMaxPooling2D\u001b[0m)  │ (\u001b[38;5;45mNone\u001b[0m, \u001b[38;5;34m54\u001b[0m, \u001b[38;5;34m54\u001b[0m, \u001b[38;5;34m16\u001b[0m)     │             \u001b[38;5;34m0\u001b[0m │\n",
              "├─────────────────────────────────┼────────────────────────┼───────────────┤\n",
              "│ dropout_1 (\u001b[38;5;33mDropout\u001b[0m)             │ (\u001b[38;5;45mNone\u001b[0m, \u001b[38;5;34m54\u001b[0m, \u001b[38;5;34m54\u001b[0m, \u001b[38;5;34m16\u001b[0m)     │             \u001b[38;5;34m0\u001b[0m │\n",
              "├─────────────────────────────────┼────────────────────────┼───────────────┤\n",
              "│ flatten (\u001b[38;5;33mFlatten\u001b[0m)               │ (\u001b[38;5;45mNone\u001b[0m, \u001b[38;5;34m46656\u001b[0m)          │             \u001b[38;5;34m0\u001b[0m │\n",
              "├─────────────────────────────────┼────────────────────────┼───────────────┤\n",
              "│ dense (\u001b[38;5;33mDense\u001b[0m)                   │ (\u001b[38;5;45mNone\u001b[0m, \u001b[38;5;34m128\u001b[0m)            │     \u001b[38;5;34m5,972,096\u001b[0m │\n",
              "├─────────────────────────────────┼────────────────────────┼───────────────┤\n",
              "│ dense_1 (\u001b[38;5;33mDense\u001b[0m)                 │ (\u001b[38;5;45mNone\u001b[0m, \u001b[38;5;34m6\u001b[0m)              │           \u001b[38;5;34m774\u001b[0m │\n",
              "└─────────────────────────────────┴────────────────────────┴───────────────┘\n"
            ]
          },
          "metadata": {},
          "output_type": "display_data"
        },
        {
          "data": {
            "text/html": [
              "<pre style=\"white-space:pre;overflow-x:auto;line-height:normal;font-family:Menlo,'DejaVu Sans Mono',consolas,'Courier New',monospace\"><span style=\"font-weight: bold\"> Total params: </span><span style=\"color: #00af00; text-decoration-color: #00af00\">5,974,846</span> (22.79 MB)\n",
              "</pre>\n"
            ],
            "text/plain": [
              "\u001b[1m Total params: \u001b[0m\u001b[38;5;34m5,974,846\u001b[0m (22.79 MB)\n"
            ]
          },
          "metadata": {},
          "output_type": "display_data"
        },
        {
          "data": {
            "text/html": [
              "<pre style=\"white-space:pre;overflow-x:auto;line-height:normal;font-family:Menlo,'DejaVu Sans Mono',consolas,'Courier New',monospace\"><span style=\"font-weight: bold\"> Trainable params: </span><span style=\"color: #00af00; text-decoration-color: #00af00\">5,974,846</span> (22.79 MB)\n",
              "</pre>\n"
            ],
            "text/plain": [
              "\u001b[1m Trainable params: \u001b[0m\u001b[38;5;34m5,974,846\u001b[0m (22.79 MB)\n"
            ]
          },
          "metadata": {},
          "output_type": "display_data"
        },
        {
          "data": {
            "text/html": [
              "<pre style=\"white-space:pre;overflow-x:auto;line-height:normal;font-family:Menlo,'DejaVu Sans Mono',consolas,'Courier New',monospace\"><span style=\"font-weight: bold\"> Non-trainable params: </span><span style=\"color: #00af00; text-decoration-color: #00af00\">0</span> (0.00 B)\n",
              "</pre>\n"
            ],
            "text/plain": [
              "\u001b[1m Non-trainable params: \u001b[0m\u001b[38;5;34m0\u001b[0m (0.00 B)\n"
            ]
          },
          "metadata": {},
          "output_type": "display_data"
        }
      ],
      "source": [
        "model.summary()"
      ]
    },
    {
      "cell_type": "markdown",
      "metadata": {
        "id": "-OTxObCWYLHP"
      },
      "source": [
        "Define EarlyStopping before training.\n",
        "\n",
        "*`EarlyStopping` is a Keras callback used to stop model training early if performance on a monitored metric, like validation loss (`val_loss`), stops improving. With `patience=3`, training stops if the metric doesn't improve for 3 consecutive epochs. The `restore_best_weights=True` option ensures the model retains the best weights found during training. This approach helps prevent overfitting, saves computational resources, and ensures better generalization on unseen data. It's particularly useful for optimizing training time while maintaining model quality.*"
      ]
    },
    {
      "cell_type": "code",
      "execution_count": 14,
      "metadata": {
        "id": "2cIsk_H3YGKr"
      },
      "outputs": [],
      "source": [
        "early_stopping = EarlyStopping(\n",
        "    monitor='val_loss',\n",
        "    patience=3,\n",
        "    restore_best_weights=True\n",
        ")"
      ]
    },
    {
      "cell_type": "markdown",
      "metadata": {
        "id": "iMgIDEUDYkPM"
      },
      "source": [
        "Train the model with early stopping"
      ]
    },
    {
      "cell_type": "code",
      "execution_count": 15,
      "metadata": {
        "colab": {
          "base_uri": "https://localhost:8080/"
        },
        "id": "pRAe0O2pYj8J",
        "outputId": "4688500e-3748-442e-e23c-1064440f7270"
      },
      "outputs": [
        {
          "name": "stderr",
          "output_type": "stream",
          "text": [
            "c:\\Users\\pablo\\anaconda3\\Lib\\site-packages\\keras\\src\\trainers\\data_adapters\\py_dataset_adapter.py:121: UserWarning: Your `PyDataset` class should call `super().__init__(**kwargs)` in its constructor. `**kwargs` can include `workers`, `use_multiprocessing`, `max_queue_size`. Do not pass these arguments to `fit()`, as they will be ignored.\n",
            "  self._warn_if_super_not_called()\n"
          ]
        },
        {
          "name": "stdout",
          "output_type": "stream",
          "text": [
            "Epoch 1/2\n",
            "\u001b[1m300/300\u001b[0m \u001b[32m━━━━━━━━━━━━━━━━━━━━\u001b[0m\u001b[37m\u001b[0m \u001b[1m78s\u001b[0m 251ms/step - accuracy: 0.7685 - loss: 0.7213 - val_accuracy: 0.9954 - val_loss: 0.0234\n",
            "Epoch 2/2\n",
            "\u001b[1m300/300\u001b[0m \u001b[32m━━━━━━━━━━━━━━━━━━━━\u001b[0m\u001b[37m\u001b[0m \u001b[1m72s\u001b[0m 239ms/step - accuracy: 0.9972 - loss: 0.0087 - val_accuracy: 0.9967 - val_loss: 0.0098\n"
          ]
        }
      ],
      "source": [
        "history = model.fit(\n",
        "    train_generator,\n",
        "    epochs=epochs,\n",
        "    validation_data=validation_generator,\n",
        "    callbacks=[early_stopping]\n",
        ")"
      ]
    },
    {
      "cell_type": "code",
      "execution_count": 17,
      "metadata": {
        "id": "R603GYsTkeCr"
      },
      "outputs": [
        {
          "data": {
            "text/plain": [
              "{'accuracy': [0.9131249785423279, 0.9962499737739563],\n",
              " 'loss': [0.2787262201309204, 0.010173418559134007],\n",
              " 'val_accuracy': [0.9954166412353516, 0.996666669845581],\n",
              " 'val_loss': [0.023387426510453224, 0.009793403558433056]}"
            ]
          },
          "execution_count": 17,
          "metadata": {},
          "output_type": "execute_result"
        }
      ],
      "source": [
        "history.history"
      ]
    },
    {
      "cell_type": "markdown",
      "metadata": {
        "id": "MZ2RYBRgj2YE"
      },
      "source": [
        "Plot the training history."
      ]
    },
    {
      "cell_type": "code",
      "execution_count": 18,
      "metadata": {
        "id": "08jFkzhzj5d7"
      },
      "outputs": [
        {
          "data": {
            "image/png": "[encoded data removed]",
            "text/plain": [
              "<Figure size 2000x500 with 2 Axes>"
            ]
          },
          "metadata": {},
          "output_type": "display_data"
        }
      ],
      "source": [
        "def plot_training_history(history):\n",
        "  training_accuracy = history.history['accuracy']\n",
        "  training_loss = history.history['loss']\n",
        "\n",
        "  validation_accuracy = history.history['val_accuracy']\n",
        "  validation_loss = history.history['val_loss']\n",
        "\n",
        "  epochs_range = range(len(training_accuracy))\n",
        "\n",
        "  # Main figure size (20,5)\n",
        "  plt.figure(figsize=(20,5))\n",
        "\n",
        "  # First subplot (Accuracy)\n",
        "  plt.subplot(1,2,1) # plt.subplot(n_rows, n_cols, pos)\n",
        "  plt.plot(epochs_range, training_accuracy, label='Training Accuracy')\n",
        "  plt.plot(epochs_range, validation_accuracy, label='Validation Accuracy')\n",
        "  plt.legend(loc='lower right')\n",
        "  plt.title('Training and Validation Accuracy')\n",
        "\n",
        "  # Second subplot (Loss)\n",
        "  plt.subplot(1,2,2)\n",
        "  plt.plot(epochs_range, training_loss, label='Training Loss')\n",
        "  plt.plot(epochs_range, validation_loss, label='Validation Loss')\n",
        "  plt.legend(loc='upper right')\n",
        "  plt.title('Training and Validation Loss')\n",
        "  plt.show()\n",
        "\n",
        "plot_training_history(history)"
      ]
    },
    {
      "cell_type": "markdown",
      "metadata": {
        "id": "wg-ZRaPIl1q5"
      },
      "source": [
        "Evaluate the model."
      ]
    },
    {
      "cell_type": "code",
      "execution_count": 19,
      "metadata": {
        "id": "MPUiOcUJl3hb"
      },
      "outputs": [
        {
          "name": "stdout",
          "output_type": "stream",
          "text": [
            "\u001b[1m75/75\u001b[0m \u001b[32m━━━━━━━━━━━━━━━━━━━━\u001b[0m\u001b[37m\u001b[0m \u001b[1m9s\u001b[0m 123ms/step - accuracy: 0.9970 - loss: 0.0086\n",
            "Validation Loss: 0.009793401695787907\n",
            "Validation Accuracy: 0.996666669845581\n"
          ]
        }
      ],
      "source": [
        "validation_loss, validation_accuracy = model.evaluate(validation_generator)\n",
        "print(f\"Validation Loss: {validation_loss}\")\n",
        "print(f\"Validation Accuracy: {validation_accuracy}\")"
      ]
    },
    {
      "cell_type": "markdown",
      "metadata": {
        "id": "k9iBqRsDmMl1"
      },
      "source": [
        "Save the model (colab)."
      ]
    },
    {
      "cell_type": "code",
      "execution_count": null,
      "metadata": {
        "id": "rYZ6aUW6mN_w"
      },
      "outputs": [],
      "source": [
        "model_path = \"/content/drive/My Drive/Colab Notebooks/ML Research/supervised-learning/intelligent-locker-system\"\n",
        "model.save(os.path.join(model_path, 'Gesture6_11MB.h5'))"
      ]
    },
    {
      "cell_type": "markdown",
      "metadata": {},
      "source": [
        "Save the model (local)."
      ]
    },
    {
      "cell_type": "code",
      "execution_count": 23,
      "metadata": {},
      "outputs": [
        {
          "name": "stderr",
          "output_type": "stream",
          "text": [
            "WARNING:absl:You are saving your model as an HDF5 file via `model.save()` or `keras.saving.save_model(model)`. This file format is considered legacy. We recommend using instead the native Keras format, e.g. `model.save('my_model.keras')` or `keras.saving.save_model(model, 'my_model.keras')`. \n"
          ]
        }
      ],
      "source": [
        "model_path = \"C:/Users/pablo/Desktop/Gesture6/Gesture6/models\"\n",
        "model.save(os.path.join(model_path, 'Gesture6_11MB_99ACC.h5'))"
      ]
    },
    {
      "cell_type": "markdown",
      "metadata": {
        "id": "bfwU8sTml2Ym"
      },
      "source": [
        "# Gesture6 96x96"
      ]
    },
    {
      "cell_type": "markdown",
      "metadata": {
        "id": "ShaNDRg7H90P"
      },
      "source": [
        "Reshape the original images from 224x224 to 96x96. This creates a new dataset called `data_reshaped` (colab)."
      ]
    },
    {
      "cell_type": "code",
      "execution_count": null,
      "metadata": {
        "colab": {
          "base_uri": "https://localhost:8080/"
        },
        "id": "fEP49ASgIDV2",
        "outputId": "061aa636-7bbb-417f-8b71-772c2090cd48"
      },
      "outputs": [],
      "source": [
        "import os\n",
        "from PIL import Image\n",
        "\n",
        "data_path = \"/content/drive/My Drive/Colab Notebooks/ML Research/supervised-learning/intelligent-locker-system/data/leapgestrecog/leapGestRecog\"\n",
        "data_reshaped_path = \"/content/drive/My Drive/Colab Notebooks/ML Research/supervised-learning/intelligent-locker-system/data_reshaped\"\n",
        "\n",
        "# MKDIR if data_reshaped is not found\n",
        "os.makedirs(data_reshaped_path, exist_ok=True)\n",
        "\n",
        "for subject in os.listdir(data_path):\n",
        "    subject_reshaped_path = os.path.join(data_reshaped_path, subject)\n",
        "    os.makedirs(subject_reshaped_path, exist_ok=True)\n",
        "\n",
        "    for gesture in os.listdir(os.path.join(data_path, subject)):\n",
        "        gesture_reshaped_path = os.path.join(subject_reshaped_path, gesture)\n",
        "        os.makedirs(gesture_reshaped_path, exist_ok=True)\n",
        "\n",
        "        for img_file in os.listdir(os.path.join(data_path, subject, gesture)):\n",
        "            img_path = os.path.join(data_path, subject, gesture, img_file)\n",
        "            img_reshaped_path = os.path.join(gesture_reshaped_path, img_file)\n",
        "\n",
        "            img = Image.open(img_path)\n",
        "            img = img.resize((80, 80))\n",
        "            img.save(img_reshaped_path)\n",
        "\n",
        "print(\"The 96x96 version of the original images were saved in:\", data_reshaped_path)"
      ]
    },
    {
      "cell_type": "markdown",
      "metadata": {},
      "source": [
        "Reshape the original images from 224x224 to 96x96. This creates a new dataset called `data_reshaped` (local)."
      ]
    },
    {
      "cell_type": "code",
      "execution_count": null,
      "metadata": {},
      "outputs": [],
      "source": [
        "import os\n",
        "from PIL import Image\n",
        "\n",
        "data_path = \"data/leapgestrecog/leapGestRecog\"\n",
        "data_reshaped_path = \"data_reshaped\"\n",
        "\n",
        "# MKDIR if data_reshaped is not found\n",
        "os.makedirs(data_reshaped_path, exist_ok=True)\n",
        "\n",
        "for subject in os.listdir(data_path):\n",
        "    subject_reshaped_path = os.path.join(data_reshaped_path, subject)\n",
        "    os.makedirs(subject_reshaped_path, exist_ok=True)\n",
        "\n",
        "    for gesture in os.listdir(os.path.join(data_path, subject)):\n",
        "        gesture_reshaped_path = os.path.join(subject_reshaped_path, gesture)\n",
        "        os.makedirs(gesture_reshaped_path, exist_ok=True)\n",
        "\n",
        "        for img_file in os.listdir(os.path.join(data_path, subject, gesture)):\n",
        "            img_path = os.path.join(data_path, subject, gesture, img_file)\n",
        "            img_reshaped_path = os.path.join(gesture_reshaped_path, img_file)\n",
        "\n",
        "            img = Image.open(img_path)\n",
        "            img = img.resize((96, 96))\n",
        "            img.save(img_reshaped_path)\n",
        "\n",
        "print(\"The 96x96 version of the original images were saved in:\", data_reshaped_path)"
      ]
    }
  ],
  "metadata": {
    "accelerator": "GPU",
    "colab": {
      "collapsed_sections": [
        "bfwU8sTml2Ym"
      ],
      "gpuType": "T4",
      "provenance": []
    },
    "kernelspec": {
      "display_name": "base",
      "language": "python",
      "name": "python3"
    },
    "language_info": {
      "codemirror_mode": {
        "name": "ipython",
        "version": 3
      },
      "file_extension": ".py",
      "mimetype": "text/x-python",
      "name": "python",
      "nbconvert_exporter": "python",
      "pygments_lexer": "ipython3",
      "version": "3.11.4"
    }
  },
  "nbformat": 4,
  "nbformat_minor": 0
}
